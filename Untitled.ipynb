{
 "cells": [
  {
   "cell_type": "code",
   "execution_count": null,
   "id": "839c9510-750a-45d6-a15c-d7d53dbf7b6e",
   "metadata": {},
   "outputs": [],
   "source": [
    "# 1.ADD\n",
    "# 2.SUBTRACT\n",
    "# 3.DIVIDE\n",
    "# 4.MULTIPLY\n",
    "\n",
    "print (\"select an op to perform:\")\n",
    "print(\"1. ADD\")\n",
    "print(\"2. SUBTRACT\")\n",
    "print(\"3. DIVIDE\")\n",
    "print(\"4. MULTIPLY\")\n",
    "\n",
    "op = input(\"Enter the number (1/2/3/4): \")\n",
    "      \n",
    "if op == \"1\":\n",
    "    num1 = float(input( \"Enter first number: \") )\n",
    "    num2 = float(input( \"Enter second number: \"))\n",
    "    print(\"the sum is \"+ str(num1 + num2))\n",
    "elif op == \"2\":\n",
    "    num1 = float(input( \"Enter first number: \"))\n",
    "    num2 = float(input( \"Enter second number: \"))\n",
    "    print(\"the difference is \"+ str(num1 - num2))\n",
    "elif op == \"3\":\n",
    "    num1 = float(input( \"Enter first number: \"))\n",
    "    num2 = float(input( \"Enter second number: \"))\n",
    "    print(\"The quotient is \" + str(num1 / num2))\n",
    "elif op == \"4\":\n",
    "    num1 = float(input( \"Enter first number: \"))\n",
    "    num2 = float(input( \"Enter second number: \"))\n",
    "    print(\"the sum is \"+ str (num1 * num2))\n",
    "else:\n",
    "    print(\"Invalid entry\") "
   ]
  }
 ],
 "metadata": {
  "kernelspec": {
   "display_name": "Python [conda env:base] *",
   "language": "python",
   "name": "conda-base-py"
  },
  "language_info": {
   "codemirror_mode": {
    "name": "ipython",
    "version": 3
   },
   "file_extension": ".py",
   "mimetype": "text/x-python",
   "name": "python",
   "nbconvert_exporter": "python",
   "pygments_lexer": "ipython3",
   "version": "3.12.7"
  }
 },
 "nbformat": 4,
 "nbformat_minor": 5
}
